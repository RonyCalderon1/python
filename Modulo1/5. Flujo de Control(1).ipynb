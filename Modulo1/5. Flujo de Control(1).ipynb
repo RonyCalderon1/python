{
 "cells": [
  {
   "cell_type": "markdown",
   "metadata": {},
   "source": [
    "# FLUJO DE CONTROL"
   ]
  },
  {
   "cell_type": "markdown",
   "metadata": {},
   "source": [
    "El flujo de control ayudará a nuestro programa en la toma de decisiones"
   ]
  },
  {
   "cell_type": "markdown",
   "metadata": {},
   "source": [
    "<center> <img src='https://4.bp.blogspot.com/_QWwb06N-r1Y/TMeaj_jf7aI/AAAAAAAAARA/CUtpkzy0Pjo/s1600/selectiva.png' width=\"400\" height=\"250\"></center>"
   ]
  },
  {
   "cell_type": "markdown",
   "metadata": {},
   "source": [
    "## 1. Flujo de control (if - else) "
   ]
  },
  {
   "cell_type": "markdown",
   "metadata": {},
   "source": [
    "El uso de condiciones nos permite tener un mayor control sobre el flujo del programa."
   ]
  },
  {
   "cell_type": "code",
   "execution_count": null,
   "metadata": {},
   "outputs": [],
   "source": [
    "# Uso de la sentencia if (si)\n",
    "if True:\n",
    "    print('hola')"
   ]
  },
  {
   "cell_type": "code",
   "execution_count": null,
   "metadata": {},
   "outputs": [],
   "source": [
    "# Sentencia else (si no)\n",
    "x = 9.2\n",
    "if x==8 :\n",
    "    print('el valor de x es 8')\n",
    "else:\n",
    "    print(f'el valor de x es distinto de {8}')\n",
    "    #print('el valor de x es {}'.format(x))"
   ]
  },
  {
   "cell_type": "code",
   "execution_count": null,
   "metadata": {},
   "outputs": [],
   "source": [
    "# uso de If anidado\n",
    "a = 5\n",
    "b = 10\n",
    "if a == 5:\n",
    "    print(\"a vale\",a)\n",
    "    \n",
    "    if b == 10:\n",
    "        print('y b vale',b)"
   ]
  },
  {
   "cell_type": "markdown",
   "metadata": {},
   "source": [
    "## 2. Sentencia elif (sino si)"
   ]
  },
  {
   "cell_type": "markdown",
   "metadata": {},
   "source": [
    "Se encadena a un if u otro elif para comprobar múltiples condiciones, siempre que las anteriores no se ejecuten:"
   ]
  },
  {
   "cell_type": "code",
   "execution_count": null,
   "metadata": {},
   "outputs": [],
   "source": [
    "# Sentencia else (si no)\n",
    "x=9\n",
    "if x==8 :\n",
    "    print('el valor de x es 8')\n",
    "elif x==9:\n",
    "    print('el valor de x es 9')\n",
    "elif x==10:\n",
    "    print('el valor de x es 10')\n",
    "else:\n",
    "    print('el valor de x es distinto de 8')"
   ]
  },
  {
   "cell_type": "code",
   "execution_count": null,
   "metadata": {},
   "outputs": [],
   "source": []
  },
  {
   "cell_type": "code",
   "execution_count": null,
   "metadata": {},
   "outputs": [],
   "source": []
  },
  {
   "cell_type": "code",
   "execution_count": null,
   "metadata": {},
   "outputs": [],
   "source": []
  },
  {
   "cell_type": "markdown",
   "metadata": {},
   "source": [
    "# EJERCICIOS"
   ]
  },
  {
   "cell_type": "markdown",
   "metadata": {},
   "source": [
    "#### 1.\n",
    "Crear un programa que permita decidir a una persona cruzar la calle o no según:\n",
    "- Si semáforo esta en verde cruzar la calle\n",
    "- Si semáforo esta en rojo o amarillo no cruzar\n",
    "\n",
    "La persona debe poder ingresar el estado del semáforo por teclado"
   ]
  },
  {
   "cell_type": "code",
   "execution_count": null,
   "metadata": {},
   "outputs": [],
   "source": [
    "# lower -> convierte un texto a minusculas\n",
    "'HOLA soy Pedro'.lower()"
   ]
  },
  {
   "cell_type": "code",
   "execution_count": null,
   "metadata": {},
   "outputs": [],
   "source": [
    "semaforo = input('Ingrese el estado del semáforo: ')"
   ]
  },
  {
   "cell_type": "code",
   "execution_count": null,
   "metadata": {},
   "outputs": [],
   "source": [
    "if semaforo.lower() == \"verde\":\n",
    "    print(\"cruzar la calle\")\n",
    "elif semaforo.lower() ==\"rojo\" and semaforo.lower() ==\"amarillo\":\n",
    "    print(\"no cruzar\")\n",
    "else:\n",
    "    print(\"datos invalidos\")"
   ]
  },
  {
   "cell_type": "markdown",
   "metadata": {},
   "source": [
    "#### 2.\n",
    "Escribir un programa que pregunte al usuario su edad y muestre por pantalla si es mayor de edad o no."
   ]
  },
  {
   "cell_type": "code",
   "execution_count": null,
   "metadata": {},
   "outputs": [],
   "source": [
    "y = int(input(\"Cual es tu edad? \"))"
   ]
  },
  {
   "cell_type": "code",
   "execution_count": null,
   "metadata": {},
   "outputs": [],
   "source": [
    "if y>=18:\n",
    "    print(\"mayor edad\")\n",
    "else:\n",
    "    print(\"menor de edad\")"
   ]
  },
  {
   "cell_type": "markdown",
   "metadata": {},
   "source": [
    "#### 3.\n",
    "Escribir un programa que almacene la cadena de caracteres <b>contraseña</b> en una variable, pregunte al usuario por la contraseña e imprima por pantalla si la contraseña introducida por el usuario coincide con la guardada en la variable sin tener en cuenta mayúsculas y minúsculas."
   ]
  },
  {
   "cell_type": "code",
   "execution_count": null,
   "metadata": {},
   "outputs": [],
   "source": [
    "contra = input(\"ingrese contraseña\")\n",
    "contra_guardada =\"perú\""
   ]
  },
  {
   "cell_type": "code",
   "execution_count": null,
   "metadata": {},
   "outputs": [],
   "source": [
    "if contra.lower() == contra_guardada:\n",
    "    print(\"contraseña correcta\")\n",
    "else:\n",
    "    print(\"contraseña incorrecta\")"
   ]
  },
  {
   "cell_type": "markdown",
   "metadata": {},
   "source": [
    "### 4. \n",
    "Escribir un programa que pida al usuario un número entero y muestre por pantalla si es par o impar.\n"
   ]
  },
  {
   "cell_type": "code",
   "execution_count": null,
   "metadata": {},
   "outputs": [],
   "source": [
    "a = int(input(\"Ingrese el número aquí: \"))"
   ]
  },
  {
   "cell_type": "code",
   "execution_count": null,
   "metadata": {},
   "outputs": [],
   "source": [
    "if a%2==0:\n",
    "    print(f\"El número que ha ingresado es PAR {a}\")\n",
    "else:\n",
    "    print(\"El número que ha ingresado es IMPAR {}\".format(a))"
   ]
  },
  {
   "cell_type": "markdown",
   "metadata": {},
   "source": [
    "#### 5.\n",
    "Los tramos impositivos para la declaración de la renta en un determinado país son los siguientes:\n",
    "\n",
    "<table>\n",
    "    <thead>\n",
    "        <th style=\"text-align: center\">Renta</th>\n",
    "        <th style=\"text-align: center\">% de Impuesto</th>\n",
    "    </thead>\n",
    "    <tbody>\n",
    "        <tr>\n",
    "            <td style=\"text-align: center\">Menos de 10000€</td>\n",
    "            <td style=\"text-align: center\">5%</td>\n",
    "        </tr>\n",
    "        <tr>\n",
    "            <td style=\"text-align: center\">Entre 10000€ y 20000€</td>\n",
    "            <td style=\"text-align: center\">15%</td>\n",
    "        </tr>\n",
    "        <tr>\n",
    "            <td style=\"text-align: center\">Entre 20000€ y 35000€</td>\n",
    "            <td style=\"text-align: center\">20%</td>\n",
    "        </tr>\n",
    "        <tr>\n",
    "            <td style=\"text-align: center\">Más de 60000€</td>\n",
    "            <td style=\"text-align: center\">30%</td>\n",
    "        </tr>\n",
    "        <tr>\n",
    "            <td style=\"text-align: center\">Entre 35000€ y 60000€</td>\n",
    "            <td style=\"text-align: center\">45%</td>\n",
    "        </tr>\n",
    "    </tbody>\n",
    "</table>\n"
   ]
  },
  {
   "cell_type": "markdown",
   "metadata": {},
   "source": [
    "Realizar un programa que pueda decir el % de impuestos que una persona deba pagar según su sueldo"
   ]
  },
  {
   "cell_type": "code",
   "execution_count": null,
   "metadata": {},
   "outputs": [],
   "source": [
    "sueldo = float(input('ingrese su sueldo aqui: '))"
   ]
  },
  {
   "cell_type": "code",
   "execution_count": null,
   "metadata": {},
   "outputs": [],
   "source": [
    "if sueldo <10000 :\n",
    "    impuesto = sueldo * 0.05\n",
    "elif sueldo >= 10000 and sueldo <20000:\n",
    "    impuesto = sueldo * 0.15\n",
    "elif sueldo >= 20000 and sueldo <35000:\n",
    "    impuesto = sueldo * 0.20\n",
    "elif sueldo >= 35000 and sueldo <60000:\n",
    "    impuesto = sueldo * 0.45\n",
    "else:\n",
    "    impuesto = sueldo * 0.30"
   ]
  },
  {
   "cell_type": "code",
   "execution_count": null,
   "metadata": {},
   "outputs": [],
   "source": []
  },
  {
   "cell_type": "code",
   "execution_count": null,
   "metadata": {},
   "outputs": [],
   "source": [
    "print('el impuesto a pagar es {}'.format(impuesto))"
   ]
  },
  {
   "cell_type": "markdown",
   "metadata": {},
   "source": [
    "#### 6. \n",
    "Realiza un programa que lea dos números por teclado y permita elegir entre 3 opciones en un menú:\n",
    "\n",
    "- Mostrar una suma de los dos números\n",
    "- Mostrar una resta de los dos números (el primero menos el segundo)\n",
    "- Mostrar una multiplicación de los dos números\n",
    "- En caso de introducir una opción inválida, el programa informará de que no es correcta.\n"
   ]
  },
  {
   "cell_type": "code",
   "execution_count": null,
   "metadata": {},
   "outputs": [],
   "source": [
    " \n",
    "print(\"\"\"elija que operación desea realizar:\n",
    "              1)suma\n",
    "              2)resta\n",
    "              3)multiplicación\n",
    "              4)salir\"\"\")\n",
    "operacion=input()"
   ]
  },
  {
   "cell_type": "code",
   "execution_count": null,
   "metadata": {},
   "outputs": [],
   "source": [
    " \n",
    "n1=float(input(\"ingrese número\"))\n",
    "n2=float(input(\"ingrese número\"))\n",
    "if   operacion == \"1\"\n",
    "    print(\"la suma de números es: \", n1 + n2)\n",
    "elif operación == \"2\"\n",
    "    print(\"la resta de números es:\" , n1 - n2)\n",
    "elif operacion == 3\n",
    "    print(\"la multiplicación es:\" , n1 * n2)\n",
    "elif operacion == 4\n",
    "    print(\"salir del programa\")\n",
    "else:\n",
    "    print(\"no es correcto\")"
   ]
  },
  {
   "cell_type": "code",
   "execution_count": null,
   "metadata": {},
   "outputs": [],
   "source": []
  },
  {
   "cell_type": "markdown",
   "metadata": {},
   "source": [
    "#### 7.\n",
    "La pizzería Bella Napoli ofrece pizzas vegetarianas y no vegetarianas a sus clientes. Los ingredientes para cada tipo de pizza aparecen a continuación.\n",
    "\n",
    "- Ingredientes vegetarianos: Pimiento y tofu.\n",
    "- Ingredientes no vegetarianos: Peperoni, Jamón y Salmón.\n",
    "\n",
    "Escribir un programa que pregunte al usuario si quiere una pizza vegetariana o no, y en función de su respuesta le muestre un menú con los ingredientes disponibles para que elija. Solo se puede eligir un ingrediente además de la mozzarella y el tomate que están en todas la pizzas. Al final se debe mostrar por pantalla si la pizza elegida es vegetariana o no y todos los ingredientes que lleva."
   ]
  },
  {
   "cell_type": "code",
   "execution_count": 2,
   "metadata": {},
   "outputs": [
    {
     "ename": "IndentationError",
     "evalue": "unindent does not match any outer indentation level (<tokenize>, line 17)",
     "output_type": "error",
     "traceback": [
      "\u001b[1;36m  File \u001b[1;32m\"<tokenize>\"\u001b[1;36m, line \u001b[1;32m17\u001b[0m\n\u001b[1;33m    if op == \"1\":\u001b[0m\n\u001b[1;37m    ^\u001b[0m\n\u001b[1;31mIndentationError\u001b[0m\u001b[1;31m:\u001b[0m unindent does not match any outer indentation level\n"
     ]
    }
   ],
   "source": [
    "\n",
    "\n",
    "dim=input(\"\"\" ¿qué clase de pizza desea?  \n",
    "                   1)vegetariana\n",
    "                   2)no vegetariana \"\"\")\n",
    "if dim == \"1\":\n",
    "    op = input(\"\"\"elija un ingrediente:\n",
    "          1)pimiento\n",
    "          2)tofu\"\"\")\n",
    "    if op == \"1\":\n",
    "        print(\"pizza vegetariana de : tomate + mozzarella + pimiento\" )\n",
    "    else:\n",
    "        print(\"pizza vegetariana de : tomate + mozzarella + tofu \" )\n",
    "elif dim == \"2\":\n",
    "        op = input(\"\"\"elija un ingrediente:\n",
    "                     1)peperoni\n",
    "                     2)jamón\n",
    "                     3)salmón\"\"\")\n",
    "    if op == \"1\":    \n",
    "        print(\"pizza no vegetariana de : tomate + mozzarella + peperoni \")\n",
    "    else:\n",
    "        if op== \"2\":\n",
    "            print(\"pizza no vegetariana de : tomate + mozzarella + jamon \")\n",
    "        else:\n",
    "            print(\"pizza no vegetariana de : tomate + mozzarella + salmon\")\n",
    "else:\n",
    "      print(\"error\")"
   ]
  },
  {
   "cell_type": "code",
   "execution_count": null,
   "metadata": {},
   "outputs": [],
   "source": [
    "# Presentación del menú con los tipos de pizza\n",
    "print(\"Bienvenido a la pizzeria Bella Napoli.\\nTipos de pizza\\n\\t1- Vegetariana\\n\\t2- No vegetariana\\n\")\n",
    "tipo = input(\"Introduce el número correspondiente al tipo de pizza que quieres:\")\n",
    "# Decisión sobre el tipo de pizza\n",
    "if tipo == \"1\":\n",
    "    print(\"Ingredientes de pizzas vegetarianas\\n\\t 1- Pimiento\\n\\t2- Tofu\\n\")\n",
    "    ingrediente = input(\"Introduce el ingrediente que deseas: \")\n",
    "    print(\"Pizza vegetariana con mozzarella, tomate y \", end=\"\")\n",
    "    if ingrediente == \"1\":\n",
    "        print(\"pimiento\")\n",
    "    else: \n",
    "        print(\"tofu\")\n",
    "else:\n",
    "    print(\"Ingredientes de pizzas no vegetarianas\\n\\t1- Peperoni\\n\\t2- Jamón\\n\\t3- Salmón\\n\")\n",
    "    ingrediente = input(\"Introduce el ingrediente que deseas: \")\n",
    "    print(\"Pizza no vegetarina con mozarrella, tomate y \", end=\"\")\n",
    "    if ingrediente == \"1\":\n",
    "        print(\"peperoni\")\n",
    "    elif ingrediente == \"2\":\n",
    "        print(\"jamón\")\n",
    "    else:\n",
    "        print(\"salmón\")"
   ]
  },
  {
   "cell_type": "code",
   "execution_count": null,
   "metadata": {},
   "outputs": [],
   "source": []
  },
  {
   "cell_type": "code",
   "execution_count": 4,
   "metadata": {},
   "outputs": [
    {
     "name": "stdin",
     "output_type": "stream",
     "text": [
      "Que tipo de pizza deseas? vegetariana o no vegetariana:  no vegetariana\n",
      "Cuales son tus ingredientes elegir uno entre peperoni, jamon y salmon salmon\n"
     ]
    },
    {
     "name": "stdout",
     "output_type": "stream",
     "text": [
      "Los ingredientes de la pizza no vegetariana son mozarella, tomate y  salmon\n"
     ]
    }
   ],
   "source": [
    "z=input(\"Que tipo de pizza deseas? vegetariana o no vegetariana: \")\n",
    "\n",
    "if z == \"vegetariana\":\n",
    "    d = input(\"Cuales son tus ingredientes elegir uno entre pimiento y tofu: \")\n",
    "    if d == \"pimiento\" or d ==\"tofu\":\n",
    "        print(\"Los ingredientes de la pizza vegetariana son mozarella, tomate y \" ,d,)\n",
    "    else:\n",
    "        print (\"error\")\n",
    "        \n",
    "elif z == \"no vegetariana\":\n",
    "    d = input(\"Cuales son tus ingredientes elegir uno entre peperoni, jamon y salmon\")\n",
    "    if d == \"peperoni\" or d == \"jamon\" or d == \"salmon\":\n",
    "        print (\"Los ingredientes de la pizza no vegetariana son mozarella, tomate y \" ,d,)\n",
    "else: \n",
    "        print (\"error\")\n",
    "\n"
   ]
  },
  {
   "cell_type": "code",
   "execution_count": null,
   "metadata": {},
   "outputs": [],
   "source": []
  },
  {
   "cell_type": "code",
   "execution_count": null,
   "metadata": {},
   "outputs": [],
   "source": [
    "z=input(\"Que tipo de pizza deseas? vegetariana o no vegetariana: \")\n",
    "\n",
    "if z == \"vegetariana\":\n",
    "    d = input(\"Cuales son tus ingredientes elegir uno entre pimiento y tofu: \")\n",
    "    if d == \"pimiento\" or d ==\"tofu\":\n",
    "        print(\"Los ingredientes de la pizza vegetariana son mozarella, tomate y \" ,d,)\n",
    "    else:\n",
    "        print (\"error\")\n",
    "        \n",
    "elif z == \"no vegetariana\":\n",
    "    d = input(\"Cuales son tus ingredientes elegir uno entre peperoni, jamon y salmon\")\n",
    "    if d == \"peperoni\" or d == \"jamon\" or d == \"salmon\":\n",
    "        print (\"Los ingredientes de la pizza no vegetariana son mozarella, tomate y \" ,d,)\n",
    "    else: \n",
    "        print (\"error\")"
   ]
  },
  {
   "cell_type": "code",
   "execution_count": null,
   "metadata": {},
   "outputs": [],
   "source": []
  }
 ],
 "metadata": {
  "kernelspec": {
   "display_name": "Python 3",
   "language": "python",
   "name": "python3"
  },
  "language_info": {
   "codemirror_mode": {
    "name": "ipython",
    "version": 3
   },
   "file_extension": ".py",
   "mimetype": "text/x-python",
   "name": "python",
   "nbconvert_exporter": "python",
   "pygments_lexer": "ipython3",
   "version": "3.8.3"
  }
 },
 "nbformat": 4,
 "nbformat_minor": 4
}
