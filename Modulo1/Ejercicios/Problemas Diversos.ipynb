{
 "cells": [
  {
   "cell_type": "code",
   "execution_count": null,
   "metadata": {},
   "outputs": [],
   "source": [
    "# PROBLEMAS DIVERSOS"
   ]
  },
  {
   "cell_type": "markdown",
   "metadata": {},
   "source": [
    "<h3>1.</h3>\n",
    "Escribí un programa que solicite al usuario ingresar la cantidad de kilómetros recorridos por una motocicleta y la cantidad de litros de combustible que consumió durante ese recorrido. Mostrar el consumo de combustible por kilómetro."
   ]
  },
  {
   "cell_type": "markdown",
   "metadata": {},
   "source": [
    "Kilómetros recorridos: 260\n",
    "Litros de combustible gastados: 12.5\n",
    "El consumo por kilómetro es de 20.8"
   ]
  },
  {
   "cell_type": "code",
   "execution_count": 8,
   "metadata": {},
   "outputs": [],
   "source": [
    "#ingrese número"
   ]
  },
  {
   "cell_type": "code",
   "execution_count": 85,
   "metadata": {},
   "outputs": [
    {
     "name": "stdin",
     "output_type": "stream",
     "text": [
      "INGRESE KILÓMETROS RECORRIDOS 260\n"
     ]
    }
   ],
   "source": [
    "kilometro=float(input(\"INGRESE KILÓMETROS RECORRIDOS\"))"
   ]
  },
  {
   "cell_type": "code",
   "execution_count": 86,
   "metadata": {},
   "outputs": [
    {
     "name": "stdin",
     "output_type": "stream",
     "text": [
      "INGRESE LITROS DE COMBUSTIBLE GASTADOS 12.5\n"
     ]
    }
   ],
   "source": [
    "combustible=float(input(\"INGRESE LITROS DE COMBUSTIBLE GASTADOS\"))"
   ]
  },
  {
   "cell_type": "code",
   "execution_count": 87,
   "metadata": {},
   "outputs": [],
   "source": [
    "total= ((kilometro) / (combustible))"
   ]
  },
  {
   "cell_type": "code",
   "execution_count": 12,
   "metadata": {},
   "outputs": [
    {
     "name": "stdout",
     "output_type": "stream",
     "text": [
      "el consumo por kilometro es de :  20.8\n"
     ]
    }
   ],
   "source": [
    "print(\"el consumo por kilometro es de : \" , total, )"
   ]
  },
  {
   "cell_type": "markdown",
   "metadata": {},
   "source": [
    "### 2.\n",
    "Escriba un programa que pida los coeficientes de una ecuación de segundo grado <code>(a x² + b x + c = 0)</code> y escriba la solución.\n",
    "\n",
    "Se recuerda que una ecuación de segundo grado puede no tener solución, tener una solución única, tener dos soluciones o que todos los números sean solución."
   ]
  },
  {
   "cell_type": "markdown",
   "metadata": {},
   "source": [
    "<img src='https://i.pinimg.com/originals/d3/f7/01/d3f701528ad56ce0f5a98d7c91722fd7.png'>"
   ]
  },
  {
   "cell_type": "markdown",
   "metadata": {},
   "source": [
    "Su programa debe indicar:\n",
    "- En caso la ecuación cuadrática tenga solución real, su programa debe brindar la solución\n",
    "- En caso su ecuación no tenga solución real, su programa debe brindar un mensaje que diga \"Ecuación no presenta solución real\""
   ]
  },
  {
   "cell_type": "code",
   "execution_count": 2,
   "metadata": {},
   "outputs": [
    {
     "name": "stdin",
     "output_type": "stream",
     "text": [
      "Indica el primer coeficiente:  1\n",
      "Indica el segundo coeficiente:  4\n",
      "Indica el tercer coeficiente:  4\n"
     ]
    },
    {
     "name": "stdout",
     "output_type": "stream",
     "text": [
      "La ecuacion tendra una solución doble\n",
      "La respuesta es: -2.0\n"
     ]
    }
   ],
   "source": [
    "a = float(input(\"Indica el primer coeficiente: \"))\n",
    "b = float(input(\"Indica el segundo coeficiente: \"))\n",
    "c = float(input(\"Indica el tercer coeficiente: \"))\n",
    "#Segun el discriminante se dara o no solución a la ecuación\n",
    "# Se tienen 3 casos segun el discriminante \n",
    "if b**2-4*a*c>0:\n",
    "    print(\"La ecuacion tendra dos soluciones distintas\")\n",
    "    x1 = (-b+(b**2-4*a*c)**0.5)/(2*a)\n",
    "    x2 = (-b-(b**2-4*a*c)**0.5)/(2*a)\n",
    "    print(\"Las respuestas serian: \",x1,\"y\",x2)\n",
    "    exit()\n",
    "elif b**2-4*a*c==0:\n",
    "    print(\"La ecuacion tendra una solución única\")\n",
    "    x = (-b/2*a)\n",
    "    print(\"La respuesta es:\",x)\n",
    "    exit()\n",
    "else:\n",
    "    print(\"La ecuacion no tiene solución\")\n",
    "    exit()\n"
   ]
  },
  {
   "cell_type": "code",
   "execution_count": null,
   "metadata": {},
   "outputs": [],
   "source": []
  }
 ],
 "metadata": {
  "kernelspec": {
   "display_name": "Python 3",
   "language": "python",
   "name": "python3"
  },
  "language_info": {
   "codemirror_mode": {
    "name": "ipython",
    "version": 3
   },
   "file_extension": ".py",
   "mimetype": "text/x-python",
   "name": "python",
   "nbconvert_exporter": "python",
   "pygments_lexer": "ipython3",
   "version": "3.8.3"
  }
 },
 "nbformat": 4,
 "nbformat_minor": 4
}
