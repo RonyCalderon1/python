{
 "cells": [
  {
   "cell_type": "markdown",
   "metadata": {},
   "source": [
    "# Estructuras de Control Iterativas"
   ]
  },
  {
   "cell_type": "markdown",
   "metadata": {},
   "source": [
    "A diferencia de las estructuras de control condicionales, las iterativas (también llamadas cíclicas o bucles), nos permiten ejecutar un mismo código, de manera repetida, mientras se cumpla una condición. En Python se dispone de dos estructuras cíclicas: \n",
    "- El bucle while \n",
    "- El bucle for \n",
    "\n",
    "Las veremos en detalle a continuación. "
   ]
  },
  {
   "cell_type": "markdown",
   "metadata": {},
   "source": [
    "## Bucle While\n",
    "------------------------------"
   ]
  },
  {
   "cell_type": "markdown",
   "metadata": {},
   "source": [
    "Se basa en <b>repetir un bloque a partir de evaluar una condición lógica, siempre que ésta sea True</b>. Queda en las manos del programador decidir el momento en que la condición cambie a False para hacer que el While finalice."
   ]
  },
  {
   "cell_type": "markdown",
   "metadata": {},
   "source": [
    "### Ejemplo\n",
    "\n",
    "Mientras que año sea menor o igual a 2012, imprimir la frase “Informes del Año año”\n"
   ]
  },
  {
   "cell_type": "code",
   "execution_count": null,
   "metadata": {},
   "outputs": [],
   "source": [
    "# -*- coding: utf-8 -*\n",
    "anio = 2001\n",
    "\n",
    "while anio <= 2012:     \n",
    "    print(\"Informes del Año {}\".format(anio)) \n",
    "    anio += 1\n",
    "#     anio = anio + 1\n",
    "#     anio += 1"
   ]
  },
  {
   "cell_type": "markdown",
   "metadata": {},
   "source": [
    "Si miras la última línea:\n",
    "\n",
    "<code>anio += 1</code>\n",
    "\n",
    "Podrás notar que en cada iteración, incrementamos el valor de la variable que condiciona el bucle (anio). Si no lo hiciéramos, esta variable siempre sería igual a 2001 y el bucle se ejecutaría de forma infinita, ya que la condición (anio <= 2012) siempre se estaría cumpliendo. "
   ]
  },
  {
   "cell_type": "code",
   "execution_count": null,
   "metadata": {},
   "outputs": [],
   "source": []
  },
  {
   "cell_type": "markdown",
   "metadata": {},
   "source": [
    "### - Instruccion <b>break</b>"
   ]
  },
  {
   "cell_type": "markdown",
   "metadata": {},
   "source": [
    "Sirve para \"romper\" la ejecución del While en cualquier momento. No se ejecutará el Else, ya que éste sólo se llama al finalizar la iteración.:"
   ]
  },
  {
   "cell_type": "code",
   "execution_count": null,
   "metadata": {},
   "outputs": [],
   "source": [
    "c = 0\n",
    "while c <= 5:\n",
    "    c+=1\n",
    "    if c == 4:\n",
    "        print(\"Rompemos el bucle cuando c vale\", c)\n",
    "        break\n",
    "    print(\"c vale\",c)"
   ]
  },
  {
   "cell_type": "code",
   "execution_count": null,
   "metadata": {},
   "outputs": [],
   "source": []
  },
  {
   "cell_type": "markdown",
   "metadata": {},
   "source": [
    "### - Instruccion <b>continue</b>"
   ]
  },
  {
   "cell_type": "markdown",
   "metadata": {},
   "source": [
    "Sirve para \"saltarse\" la iteración actual sin romper el bucle."
   ]
  },
  {
   "cell_type": "code",
   "execution_count": null,
   "metadata": {},
   "outputs": [],
   "source": [
    "c = 0\n",
    "while c <= 5:\n",
    "    c+=1\n",
    "    if c==3 or c==4:\n",
    "        # print(\"Continuamos con la siguiente iteración\", c)\n",
    "        continue\n",
    "    print(\"c vale\",c)"
   ]
  },
  {
   "cell_type": "code",
   "execution_count": null,
   "metadata": {},
   "outputs": [],
   "source": []
  },
  {
   "cell_type": "markdown",
   "metadata": {},
   "source": [
    "### Ejemplo Menú Interactivo"
   ]
  },
  {
   "cell_type": "code",
   "execution_count": null,
   "metadata": {},
   "outputs": [],
   "source": [
    "print(\"Bienvenido al menú interactivo\")\n",
    "bandera = True\n",
    "while bandera:\n",
    "    print(\"\"\"¿Qué quieres hacer? Escribe una opción\n",
    "    1) Saludar\n",
    "    2) Sumar dos números\n",
    "    3) Salir\"\"\")\n",
    "    opcion = input()\n",
    "    if opcion == '1':\n",
    "        print(\"Hola, espero que te lo estés pasando bien\")\n",
    "    elif opcion == '2':\n",
    "        n1 = float(input(\"Introduce el primer número: \"))\n",
    "        n2 = float(input(\"Introduce el segundo número: \"))\n",
    "        print(\"El resultado de la suma es: \",n1+n2)\n",
    "    elif opcion =='3':\n",
    "        print(\"¡Hasta luego! Ha sido un placer ayudarte\")\n",
    "        bandera = False\n",
    "        #break\n",
    "    else:\n",
    "        print(\"Comando desconocido, vuelve a intentarlo\")"
   ]
  },
  {
   "cell_type": "code",
   "execution_count": null,
   "metadata": {},
   "outputs": [],
   "source": []
  },
  {
   "cell_type": "code",
   "execution_count": null,
   "metadata": {},
   "outputs": [],
   "source": [
    "print(\"Bienvenido al menú interactivo\")\n",
    "\n",
    "while True:\n",
    "    print(\"\"\"¿Qué quieres hacer? Escribe una opción\n",
    "    1) Saludar\n",
    "    2) Sumar dos números\n",
    "    3) Salir\"\"\")\n",
    "    opcion = input()\n",
    "    if opcion == '1':\n",
    "        print(\"Hola, espero que te lo estés pasando bien\")\n",
    "    elif opcion == '2':\n",
    "        n1 = float(input(\"Introduce el primer número: \"))\n",
    "        n2 = float(input(\"Introduce el segundo número: \"))\n",
    "        print(\"El resultado de la suma es: \",n1+n2)\n",
    "    elif opcion =='3':\n",
    "        print(\"¡Hasta luego! Ha sido un placer ayudarte\")\n",
    "        break\n",
    "    else:\n",
    "        print(\"Comando desconocido, vuelve a intentarlo\")"
   ]
  },
  {
   "cell_type": "markdown",
   "metadata": {},
   "source": [
    "### EJERCICIOS"
   ]
  },
  {
   "cell_type": "markdown",
   "metadata": {},
   "source": [
    "Realiza un programa que lea dos números por teclado y permita elegir entre 3 opciones en un menú:\n",
    "\n",
    "- Mostrar una suma de los dos números\n",
    "- Mostrar una resta de los dos números (el primero menos el segundo)\n",
    "- Mostrar una multiplicación de los dos números\n",
    "\n",
    "En caso de introducir una opción inválida, el programa informará de que no es correcta"
   ]
  },
  {
   "cell_type": "code",
   "execution_count": 2,
   "metadata": {},
   "outputs": [
    {
     "name": "stdout",
     "output_type": "stream",
     "text": [
      "Bienvenido al menú interactivo\n",
      "¿Qué quieres hacer? Escribe una opción\n",
      "    1) mostrar la suma \n",
      "    2) mostrar la resta\n",
      "    3) mostrar multiplicación\n"
     ]
    },
    {
     "name": "stdin",
     "output_type": "stream",
     "text": [
      " 3\n",
      "Introduce el primer número:  5\n",
      "Introduce el segundo número:  6\n"
     ]
    },
    {
     "name": "stdout",
     "output_type": "stream",
     "text": [
      "la multiplicación  es: 30.0\n"
     ]
    }
   ],
   "source": [
    "print(\"Bienvenido al menú interactivo\")\n",
    "bandera = True\n",
    "while bandera:\n",
    "    print(\"\"\"¿Qué quieres hacer? Escribe una opción\n",
    "    1) mostrar la suma \n",
    "    2) mostrar la resta\n",
    "    3) mostrar multiplicación\"\"\")\n",
    "    opcion = input()\n",
    "    n1 = float(input(\"Introduce el primer número: \"))\n",
    "    n2 = float(input(\"Introduce el segundo número: \"))\n",
    "    if opcion == '1':\n",
    "        print(\"la suma es:\" , n1+n2)\n",
    "        break\n",
    "    elif opcion == '2':\n",
    "        print(\"la resta es:\" , n1-n2)\n",
    "        break\n",
    "    elif opcion =='3':\n",
    "        print(\"la multiplicación  es:\" , n1*n2)  \n",
    "        bandera = False\n",
    "        #break\n",
    "    else:\n",
    "        print(\"Comando desconocido, vuelve a intentarlo\")"
   ]
  },
  {
   "cell_type": "code",
   "execution_count": null,
   "metadata": {},
   "outputs": [],
   "source": []
  },
  {
   "cell_type": "markdown",
   "metadata": {},
   "source": [
    "## Bucle For\n",
    "----------------------------------------------"
   ]
  },
  {
   "cell_type": "markdown",
   "metadata": {},
   "source": [
    "El bucle <code>for</code>, en Python, es aquel que nos permitirá iterar sobre una variable compleja, del tipo lista o tupla:"
   ]
  },
  {
   "cell_type": "code",
   "execution_count": 7,
   "metadata": {},
   "outputs": [
    {
     "name": "stdout",
     "output_type": "stream",
     "text": [
      "Juan\n",
      "Antonio\n",
      "Pedro\n",
      "Herminio\n"
     ]
    }
   ],
   "source": [
    "# Iterando sobre listas\n",
    "mi_lista = ['Juan', 'Antonio', 'Pedro', 'Herminio']\n",
    "for elemento in mi_lista:\n",
    "    print(elemento)"
   ]
  },
  {
   "cell_type": "code",
   "execution_count": 13,
   "metadata": {},
   "outputs": [],
   "source": [
    "# Modificando valores sobre listas\n",
    "mi_lista = ['Juan', 'Antonio', 'Pedro', 'Herminio']\n",
    "for indice,nombre in enumerate(mi_lista):\n",
    "    if nombre=='Juan':\n",
    "        mi_lista[indice]='Maria'"
   ]
  },
  {
   "cell_type": "code",
   "execution_count": 12,
   "metadata": {},
   "outputs": [
    {
     "data": {
      "text/plain": [
       "[(0, 'Maria'), (1, 'Antonio'), (2, 'Pedro'), (3, 'Herminio')]"
      ]
     },
     "execution_count": 12,
     "metadata": {},
     "output_type": "execute_result"
    }
   ],
   "source": [
    "[*enumerate(mi_lista)]"
   ]
  },
  {
   "cell_type": "code",
   "execution_count": 14,
   "metadata": {},
   "outputs": [
    {
     "data": {
      "text/plain": [
       "['Maria', 'Antonio', 'Pedro', 'Herminio']"
      ]
     },
     "execution_count": 14,
     "metadata": {},
     "output_type": "execute_result"
    }
   ],
   "source": [
    "# valor cambiado\n",
    "mi_lista"
   ]
  },
  {
   "cell_type": "code",
   "execution_count": 9,
   "metadata": {},
   "outputs": [
    {
     "name": "stdout",
     "output_type": "stream",
     "text": [
      "val1 1\n",
      "val2 2\n",
      "val3 3\n"
     ]
    }
   ],
   "source": [
    "# Iterando sobre diccionarios\n",
    "dicx = {'val1':1,'val2':2,'val3':3}\n",
    "\n",
    "for key,val in dicx.items():\n",
    "    print(key,val)"
   ]
  },
  {
   "cell_type": "code",
   "execution_count": 15,
   "metadata": {},
   "outputs": [
    {
     "data": {
      "text/plain": [
       "dict_items([('val1', 1), ('val2', 2), ('val3', 3)])"
      ]
     },
     "execution_count": 15,
     "metadata": {},
     "output_type": "execute_result"
    }
   ],
   "source": [
    "dicx.items()"
   ]
  },
  {
   "cell_type": "markdown",
   "metadata": {},
   "source": [
    "### Funcion Range"
   ]
  },
  {
   "cell_type": "markdown",
   "metadata": {},
   "source": [
    "Sirve para generar una lista de números que podemos recorrer fácilmente, pero no ocupa memoria porque se interpreta sobre la marcha:\n",
    "\n"
   ]
  },
  {
   "cell_type": "markdown",
   "metadata": {},
   "source": [
    "<img src='https://cdn.techbeamers.com/wp-content/uploads/2019/05/Python-range-function-explained.png'>"
   ]
  },
  {
   "cell_type": "code",
   "execution_count": 16,
   "metadata": {},
   "outputs": [
    {
     "data": {
      "text/plain": [
       "[1, 3, 5]"
      ]
     },
     "execution_count": 16,
     "metadata": {},
     "output_type": "execute_result"
    }
   ],
   "source": [
    "[*range(1,6,2)]"
   ]
  },
  {
   "cell_type": "code",
   "execution_count": 17,
   "metadata": {},
   "outputs": [
    {
     "name": "stdout",
     "output_type": "stream",
     "text": [
      "Informes del Año 2001\n",
      "Informes del Año 2002\n",
      "Informes del Año 2003\n",
      "Informes del Año 2004\n",
      "Informes del Año 2005\n",
      "Informes del Año 2006\n",
      "Informes del Año 2007\n",
      "Informes del Año 2008\n",
      "Informes del Año 2009\n",
      "Informes del Año 2010\n",
      "Informes del Año 2011\n",
      "Informes del Año 2012\n"
     ]
    }
   ],
   "source": [
    "# -*- coding: utf-8 -*- \n",
    "# Generarndo un rango de valores del 2001 al 2012\n",
    "for anio in range(2001, 2013):\n",
    "    print(\"Informes del Año\", str(anio))"
   ]
  },
  {
   "cell_type": "code",
   "execution_count": 18,
   "metadata": {},
   "outputs": [
    {
     "name": "stdout",
     "output_type": "stream",
     "text": [
      "0\n",
      "1\n",
      "2\n",
      "3\n",
      "4\n",
      "5\n",
      "6\n",
      "7\n",
      "8\n",
      "9\n"
     ]
    }
   ],
   "source": [
    "# por defecto el inicio de la funcion es 0\n",
    "for i in range(10):\n",
    "    print(i)"
   ]
  },
  {
   "cell_type": "code",
   "execution_count": null,
   "metadata": {},
   "outputs": [],
   "source": []
  },
  {
   "cell_type": "code",
   "execution_count": 19,
   "metadata": {},
   "outputs": [
    {
     "name": "stdout",
     "output_type": "stream",
     "text": [
      "h\n",
      "o\n",
      "l\n",
      "a\n",
      " \n",
      "q\n",
      "u\n",
      "e\n",
      " \n",
      "t\n",
      "a\n",
      "l\n",
      " \n",
      "?\n"
     ]
    }
   ],
   "source": [
    "text = 'hola que tal ?'\n",
    "for p in text:\n",
    "    print(p)"
   ]
  },
  {
   "cell_type": "markdown",
   "metadata": {},
   "source": [
    "## EJERCICIOS"
   ]
  },
  {
   "cell_type": "markdown",
   "metadata": {},
   "source": [
    "1. Realiza un programa que pida al usuario cuantos números quiere introducir. Luego lee todos los números y realiza una media aritmética.\n",
    "#### Nota\n",
    "Usar listas\n",
    "\n"
   ]
  },
  {
   "cell_type": "code",
   "execution_count": 20,
   "metadata": {},
   "outputs": [
    {
     "name": "stdin",
     "output_type": "stream",
     "text": [
      "ingrese la cantidad de numeros a introducir 5\n"
     ]
    }
   ],
   "source": [
    "cantidad = int(input('ingrese la cantidad de numeros a introducir'))"
   ]
  },
  {
   "cell_type": "code",
   "execution_count": 23,
   "metadata": {},
   "outputs": [
    {
     "name": "stdout",
     "output_type": "stream",
     "text": [
      "0\n",
      "1\n",
      "2\n",
      "3\n",
      "4\n"
     ]
    }
   ],
   "source": [
    "numero  = []\n",
    "for n in range(cantidad):\n",
    "    x = int(input('ingrese el numero a ser sumado: '))\n",
    "    numero.append(x) "
   ]
  },
  {
   "cell_type": "code",
   "execution_count": 22,
   "metadata": {},
   "outputs": [
    {
     "data": {
      "text/plain": [
       "3.0"
      ]
     },
     "execution_count": 22,
     "metadata": {},
     "output_type": "execute_result"
    }
   ],
   "source": [
    "sum(numero)/cantidad"
   ]
  },
  {
   "cell_type": "markdown",
   "metadata": {},
   "source": [
    "2. Escribir un programa que pida al usuario un número entero y muestre por pantalla un triángulo rectángulo como el de más abajo, de altura el número introducido.\n",
    "\n"
   ]
  },
  {
   "cell_type": "code",
   "execution_count": null,
   "metadata": {},
   "outputs": [],
   "source": [
    "Para n = 4\n",
    "\n",
    "#\n",
    "##\n",
    "###\n",
    "####"
   ]
  },
  {
   "cell_type": "code",
   "execution_count": null,
   "metadata": {},
   "outputs": [],
   "source": [
    "'#'*3"
   ]
  },
  {
   "cell_type": "code",
   "execution_count": null,
   "metadata": {},
   "outputs": [],
   "source": [
    "#forma 1\n",
    "q=int(input(\"ingrese la cantidad de #s: \"))\n",
    "\n",
    "nums=[]\n",
    "v=1\n",
    "for elem in range(v,q+1):\n",
    "    nums.append(v*(\"#\"))\n",
    "    v=v+1\n",
    "print (nums) \n",
    "for b in (nums):\n",
    "    print (b)\n",
    "a=int(input(\"Escribe un numero entero: \"))\n"
   ]
  },
  {
   "cell_type": "code",
   "execution_count": null,
   "metadata": {},
   "outputs": [],
   "source": []
  },
  {
   "cell_type": "code",
   "execution_count": null,
   "metadata": {},
   "outputs": [],
   "source": [
    "#forma 2"
   ]
  },
  {
   "cell_type": "code",
   "execution_count": null,
   "metadata": {},
   "outputs": [],
   "source": [
    "for f in range(q)\n",
    "print((f+1)*\"#\")"
   ]
  },
  {
   "cell_type": "markdown",
   "metadata": {},
   "source": [
    "3. Escribir un programa que pida al usuario un número entero y muestre por pantalla si es un número primo o no.\n"
   ]
  },
  {
   "cell_type": "code",
   "execution_count": null,
   "metadata": {},
   "outputs": [],
   "source": [
    "numero=int(input(\"ingrese un numero entero:\"))\n",
    "if numero%2==0 \n",
    "    print(\"el numero no es primo\")\n",
    "else:\n",
    "    \n",
    "    print(\"el numero no es primo\")\n",
    "ese de números primos no me salia\n"
   ]
  },
  {
   "cell_type": "markdown",
   "metadata": {},
   "source": [
    "4. Dadas dos listas, debes generar una tercera con todos los elementos que se repitan en ellas, pero no debe repetirse ningún elemento en la nueva lista:\n",
    "\n"
   ]
  },
  {
   "cell_type": "code",
   "execution_count": null,
   "metadata": {},
   "outputs": [],
   "source": [
    "lista_1 = [\"h\",'o','l','a',' ', 'm','u','n','d','o']\n",
    "lista_2 = [\"h\",'o','l','a',' ', 'l','u','n','a']"
   ]
  },
  {
   "cell_type": "code",
   "execution_count": null,
   "metadata": {},
   "outputs": [],
   "source": [
    "lista_1 = [\"h\",'o','l','a',' ', 'm','u','n','d','o']\n",
    "lista_2 = [\"h\",'o','l','a',' ', 'l','u','n','a']\n",
    "l1=set(lista_1)\n",
    "l2=set(lista_2)\n",
    "print (l1)\n",
    "print (l2)\n",
    "l1.intersection(l2)\n"
   ]
  }
 ],
 "metadata": {
  "kernelspec": {
   "display_name": "Python 3",
   "language": "python",
   "name": "python3"
  },
  "language_info": {
   "codemirror_mode": {
    "name": "ipython",
    "version": 3
   },
   "file_extension": ".py",
   "mimetype": "text/x-python",
   "name": "python",
   "nbconvert_exporter": "python",
   "pygments_lexer": "ipython3",
   "version": "3.8.3"
  }
 },
 "nbformat": 4,
 "nbformat_minor": 4
}
